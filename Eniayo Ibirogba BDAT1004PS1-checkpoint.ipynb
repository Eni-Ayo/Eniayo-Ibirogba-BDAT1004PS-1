{
 "cells": [
  {
   "cell_type": "markdown",
   "id": "05f7e126",
   "metadata": {},
   "source": [
    "What data type is each of the following (evaluate where necessary)?"
   ]
  },
  {
   "cell_type": "code",
   "execution_count": 4,
   "id": "2ff415fb",
   "metadata": {},
   "outputs": [
    {
     "name": "stdout",
     "output_type": "stream",
     "text": [
      "<class 'int'>\n",
      "<class 'bool'>\n",
      "<class 'str'>\n",
      "<class 'int'>\n",
      "<class 'str'>\n",
      "<class 'str'>\n",
      "<class 'float'>\n",
      "<class 'int'>\n",
      "<class 'set'>\n",
      "<class 'bool'>\n",
      "<class 'float'>\n"
     ]
    }
   ],
   "source": [
    "5 #int\n",
    "print(type(5))\n",
    "\n",
    "5 > 1 #boolean\n",
    "print(type(5 > 1))\n",
    "\n",
    "'5' #string\n",
    "print(type('5'))\n",
    "\n",
    "5 * 2 #int\n",
    "print(type(5 * 2))\n",
    "\n",
    "'5' * 2 #string\n",
    "print(type('5'))\n",
    "\n",
    "'5' + '2' #string\n",
    "print(type('5' + '2'))\n",
    "\n",
    "5 / 2 #float\n",
    "print(type(5 / 2))\n",
    "\n",
    "5 % 2 #float\n",
    "print(type(5 % 2))\n",
    "\n",
    "{5, 2, 1} #list\n",
    "print(type({5, 2, 1}))\n",
    "\n",
    "5 == 3 #boolean\n",
    "print(type(5 == 3))\n",
    "\n",
    "import math\n",
    "pi = math.pi\n",
    "print(type(pi))\n",
    "  \n",
    "\n"
   ]
  },
  {
   "cell_type": "markdown",
   "id": "3e93de1b",
   "metadata": {},
   "source": [
    "Question 2: Write (and evaluate) python expressions that answer these questions:"
   ]
  },
  {
   "cell_type": "code",
   "execution_count": 43,
   "id": "a38dc0c7",
   "metadata": {},
   "outputs": [
    {
     "name": "stdout",
     "output_type": "stream",
     "text": [
      "34\n",
      "ice found\n",
      "Longest word =:Supercalifragilisticexpialidocious\n",
      "The 1st composer is:  Bartok\n",
      "The last composer is:  Buxtehude\n"
     ]
    }
   ],
   "source": [
    "# length of word Supercalifragilisticexpialidocious\n",
    "wordNum = 'Supercalifragilisticexpialidocious' \n",
    "print(len(wordNum))\n",
    "\n",
    "#2b Does the word ice exsist in Supercalifragilisticexpialidocious\n",
    "substr = 'ice' # \n",
    "if substr in wordNum:\n",
    "    print('ice found')\n",
    "else:\n",
    "    print('ice not found')\n",
    "    \n",
    "#2c Which is the longest string    \n",
    "tiara = ['Supercalifragilisticexpialidocious', \n",
    "'Honorificabilitudinitatibus', \n",
    "'Bababadalgharaghtakamminarronnkonn'\n",
    "]\n",
    "    \n",
    "print('Longest word =:' +  max(tiara))\n",
    "    \n",
    "# printing 1st and last word of dictionary\n",
    "composers = ['Berlioz', 'Borodin', 'Brian', 'Bartok', 'Bellini', 'Buxtehude', 'Bernstein']\n",
    "\n",
    "myRes= list(range(1, len(composers))) # this generates the key list\n",
    "artists = dict(zip(myRes,composers))\n",
    "\n",
    "#sort the composers in alphabetical order\n",
    "composers.sort() \n",
    "print('The 1st composer is: ', composers[0]);\n",
    "\n",
    "# the last composer\n",
    "lastComposer = list(artists.values())[-1]\n",
    "print('The last composer is: ', lastComposer);\n",
    "\n",
    "\n",
    "              "
   ]
  },
  {
   "cell_type": "markdown",
   "id": "8cd17c0a",
   "metadata": {},
   "source": [
    "Question 3 Implement function triangleArea(a,b,c) that takes as input the lengths of the 3 sides of a triangle and returns the area of the triangle. By Heron's formula, the area of a triangle with side lengths a, b, and c is   s(s-a)(s-b)(s-c), where   s=(a+b+c)/2"
   ]
  },
  {
   "cell_type": "code",
   "execution_count": 11,
   "id": "8b8513ae",
   "metadata": {},
   "outputs": [
    {
     "ename": "SyntaxError",
     "evalue": "invalid syntax (2815234606.py, line 8)",
     "output_type": "error",
     "traceback": [
      "\u001b[1;36m  File \u001b[1;32m\"C:\\Users\\hp x360 1030 g3\\AppData\\Local\\Temp\\ipykernel_30468\\2815234606.py\"\u001b[1;36m, line \u001b[1;32m8\u001b[0m\n\u001b[1;33m    triangleArea(2, 2, 2)\u001b[0m\n\u001b[1;37m    ^\u001b[0m\n\u001b[1;31mSyntaxError\u001b[0m\u001b[1;31m:\u001b[0m invalid syntax\n"
     ]
    }
   ],
   "source": [
    "# Herons formular for area of a triangle\n",
    "\n",
    "import math\n",
    "def triangleArea (a, b, c):\n",
    "    s = (a + b + c) / 2\n",
    "    return math.sqrt((s*(s-a)*(s-b)*(s-c))\n",
    "\n",
    "    triangleArea(2, 2, 2)"
   ]
  },
  {
   "cell_type": "markdown",
   "id": "9471c533",
   "metadata": {},
   "source": [
    "Question 4  Write a program in python to separate odd and even integers in separate arrays. Go to the editor Test Data : Input the number of elements to be stored in the array :5 Input 5 elements in the array : element - 0 : 25 element - 1 : 47 element - 2 : 42 element - 3 : 56 element - 4 : 32 Expected Output: The Even elements are: 42 56 32 The Odd elements are : 25 47"
   ]
  },
  {
   "cell_type": "code",
   "execution_count": 25,
   "id": "3e4d540f",
   "metadata": {},
   "outputs": [
    {
     "name": "stdout",
     "output_type": "stream",
     "text": [
      "[25, 47]\n",
      "[42, 56, 32]\n"
     ]
    }
   ],
   "source": [
    "array = [25, 47, 42, 56, 32]\n",
    "odd = []                      # empty list of odd integers\n",
    "even = []                     # empty list of even integers\n",
    "for number in array:         \n",
    "    if number % 2 == 0:\n",
    "        even.append(number)\n",
    "    else:\n",
    "        odd.append(number)\n",
    "print(odd)\n",
    "print(even)"
   ]
  },
  {
   "cell_type": "markdown",
   "id": "91e8cc51",
   "metadata": {},
   "source": [
    "Question 5: Write a function inside(x,y,x1,y1,x2,y2) that returns True or False depending on whether the point (x,y) lies in the rectangle with lower left corner (x1,y1) and upper right corner (x2,y2). \n",
    ">>> inside(1,1,0,0,2,3) True >>> inside(-1,-1,0,0,2,3) False "
   ]
  },
  {
   "cell_type": "code",
   "execution_count": 4,
   "id": "cde2e4d4",
   "metadata": {},
   "outputs": [],
   "source": [
    "def inside (x1, y1, x2, y2, x, y):\n",
    "    if(x > x1 and  x < x2 and y > yi and y < y2):\n",
    "        return True\n",
    "    else:\n",
    "        return False\n",
    "    \n",
    "    print('positive, (1,1,0,0,2,3):')\n",
    "    \n",
    "    x1 , y1, x2, y2 = 0, 0, 2, 3\n",
    "    \n",
    "    x, y = 1 , 1\n",
    "    \n",
    "    if inside (x1, y1, x2, y2, x, y) : \n",
    "        print('True')\n",
    "    else :\n",
    "        print('False')\n",
    "        \n",
    "    print(' Negative, (-1,-1,0,0,2,3):')\n",
    "    \n",
    "    x1, y1, x2, y2 = 0, 0, 2,3 \n",
    "    \n",
    "    x, y = -1, -1\n",
    "    \n",
    "    print(inside(x1,y1,x2,y2,x,y))\n",
    "        "
   ]
  },
  {
   "cell_type": "markdown",
   "id": "50e593ea",
   "metadata": {},
   "source": [
    "Question 6: You can turn a word into pig-Latin using the following two rules (simplified): \n",
    "• If the word starts with a consonant, move that letter to the end and append 'ay'. For example, 'happy' becomes 'appyhay' and 'pencil' becomes 'encilpay'. \n",
    "• If the word starts with a vowel, simply append 'way' to the end of the word. For example, 'enter' becomes 'enterway' and 'other' becomes 'otherway' . For our purposes, there are 5 vowels: a, e, i, o, u (so we count y as a consonant). \n",
    "\n",
    "Write a function pig() that takes a word (i.e., a string) as input and returns its pigLatin form. Your function should still work if the input word contains upper case characters. Your output should always be lower case however.  \n"
   ]
  },
  {
   "cell_type": "code",
   "execution_count": 33,
   "id": "ec47f77e",
   "metadata": {},
   "outputs": [
    {
     "name": "stdout",
     "output_type": "stream",
     "text": [
      "Enter a word: teary\n",
      " teary --> earytay\n"
     ]
    }
   ],
   "source": [
    "def piglatin(name):\n",
    "    for c in range(len(name)):\n",
    "        if name[c].lower() in 'aeiou':\n",
    "            return name[c: ] + name[: c] + 'ay'\n",
    "                                    \n",
    "name = input ('Enter a word: ')\n",
    "print(f' {name} --> {piglatin(name)}')\n",
    "\n",
    "# https://www.youtube.com/watch?v=9RPV4JWP1pk accessed Februrary 1, 2023."
   ]
  },
  {
   "cell_type": "markdown",
   "id": "f725f1b4",
   "metadata": {},
   "source": [
    "Question 7: File bloodtype1.txt records blood-types of patients (A, B, AB, O or OO) at a clinic. Write a function bldcount() that reads the file with name name and reports (i.e., prints) how many patients there are in each bloodtype."
   ]
  },
  {
   "cell_type": "code",
   "execution_count": 28,
   "id": "fdfa987a",
   "metadata": {},
   "outputs": [
    {
     "ename": "SyntaxError",
     "evalue": "invalid syntax (1156149576.py, line 29)",
     "output_type": "error",
     "traceback": [
      "\u001b[1;36m  File \u001b[1;32m\"C:\\Users\\hp x360 1030 g3\\AppData\\Local\\Temp\\ipykernel_30468\\1156149576.py\"\u001b[1;36m, line \u001b[1;32m29\u001b[0m\n\u001b[1;33m    bldcount('bloodtype1.txt'):\u001b[0m\n\u001b[1;37m                                    ^\u001b[0m\n\u001b[1;31mSyntaxError\u001b[0m\u001b[1;31m:\u001b[0m invalid syntax\n"
     ]
    }
   ],
   "source": [
    "def bldcount(name):\n",
    "    with open(name) as h:\n",
    "        lines = h.read('bloodtype1.txt')\n",
    "    blood_group = lines.split()\n",
    "    \n",
    "    global a,b,ab,o,oo\n",
    "    a = 0\n",
    "    b = 0\n",
    "    ab = 0\n",
    "    o = 0\n",
    "    oo = 0\n",
    "    for blood in blood_group:\n",
    "        if blood == 'A' :\n",
    "            a = a+1            \n",
    "        elif blood == 'B':\n",
    "            b = b+1\n",
    "        elif blood == 'AB':\n",
    "            ab = ab+1\n",
    "        elif blood == 'O':\n",
    "            o = o+1\n",
    "        elif blood == 'OO':\n",
    "            oo = oo+1\n",
    "    print(\"There \" + ('is ' if (a==1) else 'are ') + ('no' if (a==0) else str(a)) + (' patient' if (b==1) else ' patients') +\" patients of blood type A\")\n",
    "    print(\"There \" + ('is ' if (b==1) else 'are ' )+ ('no' if (b==0) else str(b)) + (' patient' if (b==1) else ' patients') +\" of blood type B\")\n",
    "    print(\"There \" + ('is ' if (ab==1) else 'are ' )+ ('no' if (ab==0) else str(ab)) + (' patient' if (b==1) else ' patients') +\" patients of blood type AB\")\n",
    "    print(\"There \" + ('is ' if (o==1) else 'are ' )+ ('no' if (o==0) else str(o)) + (' patient' if (b==1) else ' patients') +\" patients of blood type O\")\n",
    "    print(\"There \" + ('is ' if (oo==1) else 'are ' )+ ('no' if (oo==0) else str(oo)) + (' patient' if (b==1) else ' patients') +\" patients of blood type OO\")\n",
    "\n",
    "bldcount('bloodtype1.txt'):     \n"
   ]
  },
  {
   "cell_type": "markdown",
   "id": "378420bc",
   "metadata": {},
   "source": [
    "Question 8:\n",
    "Write a function curconv() that takes as input:  1. a currency represented using a string (e.g., 'JPY' for the Japanese Yen or 'EUR' for the Euro) 2. an amount  and then converts and returns the amount in US dollars. \n"
   ]
  },
  {
   "cell_type": "code",
   "execution_count": 27,
   "id": "73e9de6f",
   "metadata": {},
   "outputs": [
    {
     "name": "stdout",
     "output_type": "stream",
     "text": [
      "16.77063\n",
      "31.45411\n"
     ]
    }
   ],
   "source": [
    "currency = \"\"\n",
    "res = int\n",
    "def curconv(cur,amt):\n",
    "    if cur == \"AUD\":\n",
    "        res = 1.0345157*amt\n",
    "        currency = \"Australian Dollar\"\n",
    "    elif cur == \"CHF\":\n",
    "        res =  1.0237414*amt\n",
    "        currency = \"Swiss Franc\"\n",
    "    elif cur == \"CNY\":\n",
    "        res =  0.1550176*amt\n",
    "        currency = \"Chinese Yuan\"\n",
    "    elif cur == \"DKK\":\n",
    "        res =  0.1651442*amt\n",
    "        currency = \"Danish Krone\"\n",
    "    elif cur == \"EUR\":\n",
    "        res =  1.2296544*amt\n",
    "        currency = \"Euro\"\n",
    "    elif cur == \"GBP\":\n",
    "        res =  1.5550989*amt\n",
    "        currency = \"British Pound\"\n",
    "    elif cur == \"HKD\":\n",
    "        res =  0.1270207*amt\n",
    "        currency = \"Hong Kong Dollar\"\n",
    "    elif cur == \"INR\":\n",
    "        res =  0.0177643*amt\n",
    "        currency = \"Indian Rupee\"\n",
    "    elif cur == \"JPY\":\n",
    "        res =  0.01241401*amt\n",
    "        currency = \"Japanese Yen\"\n",
    "    elif cur == \"MXN\":\n",
    "        res =  0.0751848*amt\n",
    "        currency = \"Mexican Peso\"\n",
    "    elif cur == \"MYR\":\n",
    "        res =  0.3145411*amt\n",
    "        currency = \"Malaysian Ringgit\"\n",
    "    elif cur == \"NOK\":\n",
    "        res =  0.1677063*amt\n",
    "        currency = \"Norwegian Krone\"\n",
    "    elif cur == \"NZD\":\n",
    "        res =  0.8003591*amt\n",
    "        currency = \"New Zealand Dollar\"\n",
    "    elif cur == \"PHP\":\n",
    "        res =  0.0233234*amt\n",
    "        currency = \"Philippine Peso\"\n",
    "    elif cur == \"SEK\":\n",
    "        res =  0.148269*amt\n",
    "        currency = \"Swedish Krona\"\n",
    "    elif cur == \"SGD\":\n",
    "        res =  0.788871*amt\n",
    "        currency = \"Singapore Dollar\"\n",
    "    elif cur == \"THB\":\n",
    "        res =  0.0313789*amt\n",
    "        currency = \"Thai Baht\"\n",
    "        \n",
    "    print (str(res))\n",
    "\n",
    "\n",
    "curconv(\"NOK\" , 100)\n",
    "\n",
    "curconv(\"MYR\" , 100)\n",
    "    "
   ]
  },
  {
   "cell_type": "markdown",
   "id": "6be4747e",
   "metadata": {},
   "source": [
    "Question 9: Python Each of the following will cause an exception (an error). Identify what type of exception each will cause."
   ]
  },
  {
   "cell_type": "code",
   "execution_count": 3,
   "id": "2048d5e8",
   "metadata": {},
   "outputs": [
    {
     "name": "stdout",
     "output_type": "stream",
     "text": [
      "unsupported operand type(s) for +: 'int' and 'str'\n",
      "list index out of range\n",
      "math domain error\n",
      "name 'x' is not defined\n",
      "[Errno 2] No such file or directory: 'class.txt'\n"
     ]
    }
   ],
   "source": [
    "import math\n",
    "\n",
    "#Addition of non-compactible variable\n",
    "try:\n",
    "    print(6 + 'a')\n",
    "except Exception as a:\n",
    "    print(a)\n",
    "\n",
    "#Reference to the 12th item of a list with only 10 items\n",
    "try:\n",
    "    list = [20, 70, 75, 51, 8, 44, 10, 3, 39, 64]\n",
    "    print(list[12])\n",
    "except Exception as a:\n",
    "    print(a)\n",
    "\n",
    "#Using a value that is out of range for a function's input, such as calling math.sqrt(-1.0)\n",
    "try:\n",
    "    print(math.sqrt(-1.0))\n",
    "except Exception as a:\n",
    "    print(a)\n",
    "\n",
    "#Using an undeclared variable like print (x), when x has not been defined\n",
    "try:\n",
    "    print(x)\n",
    "except Exception as a:\n",
    "    print(a)\n",
    "\n",
    "#opening a file that doesnt exist, such as mistyping the file name or looking in the wrong directory\n",
    "try:\n",
    "    f = open(\"class.txt\")\n",
    "    f.close()\n",
    "except Exception as a:\n",
    "    print(a) "
   ]
  },
  {
   "cell_type": "markdown",
   "id": "e1506803",
   "metadata": {},
   "source": [
    "Question 10 Python Encryption is the process of hiding the meaning of a text by substituting letters in the message with other letters, according to some system. If the process is successful, no one but the intended recipient can understand the encrypted message. Cryptanalysis refers to attempts to undo the encryption, even if some details of the encryption are unknown (for example, if an encrypted message has been intercepted). The first step of cryptanalysis is often to build up a table of letter frequencies in the encrypted text. Assume that the string letters is already defined as 'abcdefghijklmnopqrstuvwxyz'. Write a function called frequencies() that takes a string as its only parameter, and returns a list of integers, showing the number of times each character appears in the text. Your function may ignore any characters that are not in letters.\n",
    "\n",
    "\n",
    "frequencies('The quick red fox got bored and went home.')\n",
    "\n",
    "[1, 1, 1, 3, 5, 1, 1, 2, 1, 0, 1, 0, 1, 2, 4, 0, 1, 2, 0, 2, 1, 0, 1, 1, 0, 0]\n",
    "\n",
    "frequencies('apple')"
   ]
  },
  {
   "cell_type": "code",
   "execution_count": 26,
   "id": "6bcef17f",
   "metadata": {},
   "outputs": [
    {
     "name": "stdout",
     "output_type": "stream",
     "text": [
      "[1, 1, 1, 3, 5, 1, 1, 2, 1, 0, 1, 0, 1, 2, 4, 0, 1, 2, 0, 2, 1, 0, 1, 1, 0, 0]\n",
      "[1, 0, 0, 0, 1, 0, 0, 0, 0, 0, 0, 1, 0, 0, 0, 2, 0, 0, 0, 0, 0, 0, 0, 0, 0, 0]\n"
     ]
    }
   ],
   "source": [
    "def frequencies(word):\n",
    "  alphabets = \"abcdefghijklmnopqrstuvwqyz\" \n",
    "  counts = []\n",
    "  for letter in alphabets:\n",
    "    count = word.count(letter)\n",
    "    counts.append(count)\n",
    "  print(counts)   \n",
    "\n",
    "\n",
    "frequencies(\"The quick red fox got bored and went home.\")\n",
    "frequencies(\"apple\")"
   ]
  },
  {
   "cell_type": "code",
   "execution_count": null,
   "id": "9ec58c8b",
   "metadata": {},
   "outputs": [],
   "source": []
  }
 ],
 "metadata": {
  "kernelspec": {
   "display_name": "Python 3 (ipykernel)",
   "language": "python",
   "name": "python3"
  },
  "language_info": {
   "codemirror_mode": {
    "name": "ipython",
    "version": 3
   },
   "file_extension": ".py",
   "mimetype": "text/x-python",
   "name": "python",
   "nbconvert_exporter": "python",
   "pygments_lexer": "ipython3",
   "version": "3.9.13"
  }
 },
 "nbformat": 4,
 "nbformat_minor": 5
}
